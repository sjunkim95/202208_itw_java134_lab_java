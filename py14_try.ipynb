{
  "nbformat": 4,
  "nbformat_minor": 0,
  "metadata": {
    "colab": {
      "provenance": [],
      "authorship_tag": "ABX9TyNGAcVHO8jv9FMsoScV/+B8",
      "include_colab_link": true
    },
    "kernelspec": {
      "name": "python3",
      "display_name": "Python 3"
    },
    "language_info": {
      "name": "python"
    }
  },
  "cells": [
    {
      "cell_type": "markdown",
      "metadata": {
        "id": "view-in-github",
        "colab_type": "text"
      },
      "source": [
        "<a href=\"https://colab.research.google.com/github/sjunkim95/202208_itw_java134_lab_java/blob/master/py14_try.ipynb\" target=\"_parent\"><img src=\"https://colab.research.google.com/assets/colab-badge.svg\" alt=\"Open In Colab\"/></a>"
      ]
    },
    {
      "cell_type": "markdown",
      "source": [
        "# 오류(Error) 처리 구문\n",
        "\n",
        "* 오류가 발생한 위치와 원인을 파악해서 오류가 발생하지 않도록 코드 수정.\n",
        "* 오류가 발생하더라도 프로그램이 비정상적으로 종료되지 않고 계속 실행될 수 있도록 처리 -> try 구문\n",
        "    * Java는 반드시 try-catch 구문을 사용해야만 하는 Exception 종류들이 있음.\n",
        "        * NullPointerException: try-catch가 불필요\n",
        "        * SQLException:: try-catch가 반드시 필요\n",
        "    * Python은 모든 오류 처리에서 try-except는 필수는 아님."
      ],
      "metadata": {
        "id": "chI-t7Axba8Y"
      }
    },
    {
      "cell_type": "markdown",
      "source": [
        "```\n",
        "try:\n",
        "    (1) 실행할 코드 블록\n",
        "except [에러 클래스 이름 [as 별명]]:\n",
        "    (2) 에러가 발생했을 때 실행할 코드 블록\n",
        "[else:\n",
        "    (3) 에러가 발생하지 않았을 때 실행할 코드 블록]\n",
        "[finally:\n",
        "    (4) try 블록을 실행 중에 에러 발생 여부와 상관 없이 항상 실행할 코드 블록]\n",
        "\n",
        "```\n",
        "\n",
        "* 에러가 발생하지 않는 경우: (1) -> (3) -> (4)\n",
        "* 에러가 발생하는 경우: (1) -> (2) -> (4)\n"
      ],
      "metadata": {
        "id": "H82DNttgdIzN"
      }
    },
    {
      "cell_type": "code",
      "execution_count": null,
      "metadata": {
        "colab": {
          "base_uri": "https://localhost:8080/"
        },
        "id": "l92di-5PaeWH",
        "outputId": "686cb032-0f15-4044-928c-9a9d3a0bc8f9"
      },
      "outputs": [
        {
          "output_type": "stream",
          "name": "stdout",
          "text": [
            "정수 입력>>> 23.5\n",
            "정수로 입력해야 함!\n"
          ]
        }
      ],
      "source": [
        "try:\n",
        "    x = int(input('정수 입력>>> '))\n",
        "    print(f'x = {x}')\n",
        "except:   # 모든 종류의 에러를 처리\n",
        "    print('정수로 입력해야 함!')\n"
      ]
    },
    {
      "cell_type": "code",
      "source": [
        "try:\n",
        "    x = int(input('정수 입력>>> ')) # 1.\n",
        "except ValueError as e:\n",
        "    print(e) # 2,\n",
        "else:\n",
        "    print(f'x = {x}') # 3.\n",
        "finally:\n",
        "    print('===end===') # 4."
      ],
      "metadata": {
        "colab": {
          "base_uri": "https://localhost:8080/"
        },
        "id": "qzugYwOBfgRm",
        "outputId": "9824bc84-8442-44d4-e64d-157e87c696fb"
      },
      "execution_count": null,
      "outputs": [
        {
          "output_type": "stream",
          "name": "stdout",
          "text": [
            "정수 입력>>> 23.5\n",
            "invalid literal for int() with base 10: '23.5'\n",
            "===end===\n"
          ]
        }
      ]
    },
    {
      "cell_type": "markdown",
      "source": [
        "# Ex 1.\n",
        "\n",
        "정수 1개를 입력받고, 입력받은 정수를 출력.\n",
        "\n",
        "정수로 변환할 수 없는 문자열이 입력된 경우에는 적절한 오류 메시지를 출력한 후 다시 입력을 받아야 함."
      ],
      "metadata": {
        "id": "_tzXblOChXcU"
      }
    },
    {
      "cell_type": "code",
      "source": [
        "while (True):\n",
        "    try:\n",
        "        x = int(input('정수 입력>>> ')) # 1.\n",
        "    except ValueError as e:\n",
        "        print(e) # 2,\n",
        "    else:\n",
        "        print(f'x = {x}') # 3.\n",
        "        break;\n",
        "    finally:\n",
        "        print('')\n"
      ],
      "metadata": {
        "colab": {
          "base_uri": "https://localhost:8080/"
        },
        "id": "-bhz_cGOiw2a",
        "outputId": "c522687a-a5d5-4084-959e-2d312ddb67af"
      },
      "execution_count": null,
      "outputs": [
        {
          "output_type": "stream",
          "name": "stdout",
          "text": [
            "정수 입력>>> 23.5\n",
            "invalid literal for int() with base 10: '23.5'\n",
            "\n",
            "정수 입력>>> 23\n",
            "x = 23\n",
            "\n"
          ]
        }
      ]
    },
    {
      "cell_type": "code",
      "source": [
        "# 다른 예시\n",
        "while True: # 무한 반복문\n",
        "    try:\n",
        "        n = int(input('정수 입력>>> '))\n",
        "        print(f'n = {n}')\n",
        "        break # while 문 종료\n",
        "    except:\n",
        "        print('압력한 문자열은 정수가 아니다.')"
      ],
      "metadata": {
        "colab": {
          "base_uri": "https://localhost:8080/"
        },
        "id": "s2l8FeiRpE9b",
        "outputId": "a5ac0fba-db06-4767-9957-6a1ba149c735"
      },
      "execution_count": null,
      "outputs": [
        {
          "output_type": "stream",
          "name": "stdout",
          "text": [
            "정수 입력>>> 23.5\n",
            "압력한 문자열은 정수가 아니다.\n",
            "정수 입력>>> 25.5\n",
            "압력한 문자열은 정수가 아니다.\n",
            "정수 입력>>> 23\n",
            "n = 23\n"
          ]
        }
      ]
    },
    {
      "cell_type": "markdown",
      "source": [
        "# Ex 2. 단어 개수 세기\n",
        "\n",
        "리스트 words가 가지고 있는 단어들을 key로 하고, 그 단어가 리스트에 나오는 횟수를 값으로 하는 dict를 생성."
      ],
      "metadata": {
        "id": "2Hng9kCRhwhn"
      }
    },
    {
      "cell_type": "code",
      "source": [
        "words = ['java', 'python', 'java', 'javascript', 'python', 'kotlin', 'html', 'python']\n",
        "# word_counts = {'java': 2, 'python': 3, 'javascript': 1, 'kotlin': 1, 'html': 1}"
      ],
      "metadata": {
        "id": "9lVHDGeWglhT"
      },
      "execution_count": null,
      "outputs": []
    },
    {
      "cell_type": "code",
      "source": [
        "import collections\n",
        "\n",
        "print(collections.Counter(words))\n",
        "\n",
        "print(dict(collections.Counter(words)))"
      ],
      "metadata": {
        "colab": {
          "base_uri": "https://localhost:8080/"
        },
        "id": "TT5CTXHgkM8k",
        "outputId": "99e3c9f9-fc23-49b6-e58f-abe8d07a569e"
      },
      "execution_count": null,
      "outputs": [
        {
          "output_type": "stream",
          "name": "stdout",
          "text": [
            "Counter({'python': 3, 'java': 2, 'javascript': 1, 'kotlin': 1, 'html': 1})\n",
            "{'java': 2, 'python': 3, 'javascript': 1, 'kotlin': 1, 'html': 1}\n"
          ]
        }
      ]
    },
    {
      "cell_type": "code",
      "source": [
        "# 다른 예시\n",
        "word_counts = {} # {단어: 개수} 저장할 빈 dict\n",
        "\n",
        "for w in words: # 리스트에서 단어를 차례로 꺼내면서 반복\n",
        "    if w in word_counts: # 리스트에서 꺼낸 단어 w가, dict의 키로 존재하면\n",
        "        word_counts[w] += 1 # 단어가 나오는 횟수를 1 증가\n",
        "    else: # dict의 키로 존재하지 않으면 -> 리스트에서 단어가 처음 나온 경우\n",
        "        word_counts[w] = 1 # 단어가 나오는 횟수는 1\n",
        "    print(word_counts)"
      ],
      "metadata": {
        "colab": {
          "base_uri": "https://localhost:8080/"
        },
        "id": "uggdvFDtqcEo",
        "outputId": "0b507a65-3705-4950-d9fd-4c4384985f23"
      },
      "execution_count": null,
      "outputs": [
        {
          "output_type": "stream",
          "name": "stdout",
          "text": [
            "{'java': 1}\n",
            "{'java': 1, 'python': 1}\n",
            "{'java': 2, 'python': 1}\n",
            "{'java': 2, 'python': 1, 'javascript': 1}\n",
            "{'java': 2, 'python': 2, 'javascript': 1}\n",
            "{'java': 2, 'python': 2, 'javascript': 1, 'kotlin': 1}\n",
            "{'java': 2, 'python': 2, 'javascript': 1, 'kotlin': 1, 'html': 1}\n",
            "{'java': 2, 'python': 3, 'javascript': 1, 'kotlin': 1, 'html': 1}\n"
          ]
        }
      ]
    },
    {
      "cell_type": "code",
      "source": [
        "# 또 다른 예시\n",
        "word_counts2 = {}\n",
        "for w in words:\n",
        "    try:\n",
        "        word_counts2[w] += 1 # 단어 등장 횟수 + 1\n",
        "    except:\n",
        "        word_counts2[w] = 1 # 단어가 처음 등장한 경우\n",
        "\n",
        "print(word_counts2)\n"
      ],
      "metadata": {
        "colab": {
          "base_uri": "https://localhost:8080/"
        },
        "id": "snR94hl2tA4s",
        "outputId": "9da56805-2c7c-4d89-a190-d5a554aa5468"
      },
      "execution_count": null,
      "outputs": [
        {
          "output_type": "stream",
          "name": "stdout",
          "text": [
            "{'java': 2, 'python': 3, 'javascript': 1, 'kotlin': 1, 'html': 1}\n"
          ]
        }
      ]
    }
  ]
}